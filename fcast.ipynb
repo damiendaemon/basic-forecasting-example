{
 "cells": [
  {
   "cell_type": "markdown",
   "metadata": {},
   "source": [
    "# Python statsmodels for SARIMAX\n",
    "\n",
    "This code is based on code from here: https://github.com/spierre91/builtiin/blob/main/time_series_forecasting.py\n",
    "\n",
    "Some problems have been fixed. \n",
    "\n",
    "This current code base is not intended to be public or shared beyond ourselves."
   ]
  },
  {
   "cell_type": "code",
   "execution_count": null,
   "metadata": {},
   "outputs": [],
   "source": [
    "!pip install seaborn pandas==2.2.3 yfinance==0.2.48 pandas_datareader statsmodels scikit-learn"
   ]
  },
  {
   "cell_type": "markdown",
   "metadata": {},
   "source": [
    "### Import dependencies and set up"
   ]
  },
  {
   "cell_type": "code",
   "execution_count": null,
   "metadata": {},
   "outputs": [],
   "source": [
    "import pandas as pd \n",
    "import pandas_datareader as web \n",
    "import datetime\n",
    "\n",
    "import matplotlib.pyplot as plt\n",
    "import seaborn as sns\n",
    "\n",
    "from statsmodels.tsa.statespace.sarimax import SARIMAX\n",
    "from statsmodels.tsa.arima.model import ARIMA\n",
    "\n",
    "\n",
    "import pandas as pd\n",
    "import yfinance as yf\n",
    "\n",
    "\n",
    "import numpy as np\n",
    "from sklearn.metrics import mean_squared_error\n",
    "\n",
    "\n"
   ]
  },
  {
   "cell_type": "code",
   "execution_count": null,
   "metadata": {},
   "outputs": [],
   "source": [
    "\n",
    "pd.set_option('display.max_columns', None)\n",
    "pd.set_option('display.max_rows', None)\n",
    "\n",
    "sns.set_theme()"
   ]
  },
  {
   "cell_type": "markdown",
   "metadata": {},
   "source": [
    "### Let's get some sample time-series data that we need"
   ]
  },
  {
   "cell_type": "code",
   "execution_count": null,
   "metadata": {},
   "outputs": [],
   "source": [
    "\n",
    "btc = yf.download(\"AAPL\", start='2018-01-01', end='2020-12-02')\n",
    "btc['BTC-USD'] = btc['Close']\n",
    "btc = btc[['BTC-USD']]\n",
    "# btc = btc[['BTC-USD']].asfreq('M', method='bfill')\n",
    "\n"
   ]
  },
  {
   "cell_type": "code",
   "execution_count": null,
   "metadata": {},
   "outputs": [],
   "source": [
    "btc.head()"
   ]
  },
  {
   "cell_type": "markdown",
   "metadata": {},
   "source": [
    "### Let's split the dataset for back testing."
   ]
  },
  {
   "cell_type": "code",
   "execution_count": null,
   "metadata": {},
   "outputs": [],
   "source": [
    "pd.to_datetime(\"2020-11-01\", format='%Y-%m-%d').tz_localize('UTC')"
   ]
  },
  {
   "cell_type": "code",
   "execution_count": null,
   "metadata": {},
   "outputs": [],
   "source": [
    "btc.index[0]\n"
   ]
  },
  {
   "cell_type": "code",
   "execution_count": null,
   "metadata": {},
   "outputs": [],
   "source": [
    "train = btc[btc.index < pd.to_datetime(\"2020-11-01\", format='%Y-%m-%d').tz_localize('UTC')] \n",
    "test = btc[btc.index >= pd.to_datetime(\"2020-11-01\", format='%Y-%m-%d').tz_localize('UTC')]\n"
   ]
  },
  {
   "cell_type": "code",
   "execution_count": null,
   "metadata": {},
   "outputs": [],
   "source": [
    "train.head()"
   ]
  },
  {
   "cell_type": "code",
   "execution_count": null,
   "metadata": {},
   "outputs": [],
   "source": [
    "test.head()"
   ]
  },
  {
   "cell_type": "markdown",
   "metadata": {},
   "source": [
    "### Let's plot train and test data"
   ]
  },
  {
   "cell_type": "code",
   "execution_count": null,
   "metadata": {},
   "outputs": [],
   "source": [
    "\n",
    "plt.ylabel('BTC Price')\n",
    "plt.xlabel('Date')\n",
    "plt.xticks(rotation=45)\n",
    "plt.plot(train, color='black', label='Training')\n",
    "plt.plot(test, color='red', label='Test')\n",
    "plt.show()\n",
    "\n"
   ]
  },
  {
   "cell_type": "markdown",
   "metadata": {},
   "source": [
    "## Train and test an ARMA model \n",
    "(autoregressive + moving average - no differencing)"
   ]
  },
  {
   "cell_type": "code",
   "execution_count": null,
   "metadata": {},
   "outputs": [],
   "source": [
    "\n",
    "y = train['BTC-USD']\n",
    "\n",
    "ARMAmodel = SARIMAX(y, order = (1, 0, 1)) # AR with 1 lookback, 0 differencing, and MA with 1 lookback\n",
    "ARMAmodel = ARMAmodel.fit()\n",
    "\n",
    "y_pred = ARMAmodel.get_forecast(len(test.index))\n",
    "y_pred_df = y_pred.conf_int(alpha = 0.05) \n",
    "y_pred_df[\"Predictions\"] = ARMAmodel.predict(start = y_pred_df.index[0], end = y_pred_df.index[-1])\n",
    "y_pred_df.index = test.index\n",
    "y_pred_arma = y_pred_df[\"Predictions\"] \n",
    "\n",
    "arma_rmse = np.sqrt(mean_squared_error(test[\"BTC-USD\"].values, y_pred_df[\"Predictions\"]))\n",
    "print(f\"\\n\\n\\nARMA RMSE: {arma_rmse}\\n\\n\\n\")\n",
    "\n"
   ]
  },
  {
   "cell_type": "markdown",
   "metadata": {},
   "source": [
    "### Let's plot the output"
   ]
  },
  {
   "cell_type": "code",
   "execution_count": null,
   "metadata": {},
   "outputs": [],
   "source": [
    "\n",
    "plt.ylabel('BTC Price')\n",
    "plt.xlabel('Date')\n",
    "plt.xticks(rotation=45)\n",
    "plt.plot(train, color='black', label='Training')\n",
    "plt.plot(test, color='red', label='Test')\n",
    "plt.plot(y_pred_arma, color='green', label = 'ARMA Predictions')\n",
    "plt.show()"
   ]
  },
  {
   "cell_type": "markdown",
   "metadata": {},
   "source": [
    "## Train and test an ARIMA model \n",
    "(autoregressive + moving average - now with differencing)"
   ]
  },
  {
   "cell_type": "code",
   "execution_count": null,
   "metadata": {},
   "outputs": [],
   "source": []
  },
  {
   "cell_type": "code",
   "execution_count": null,
   "metadata": {},
   "outputs": [],
   "source": [
    "ARIMAmodel = ARIMA(y, order = (12, 1, 2)) # AR with 5 lookback, 1 differencing, and MA with 2 lookback\n",
    "# ARIMAmodel = ARIMA(y, order = (7, 1, 4)) # AR with 7 lookback, 1 differencing, and MA with 4 lookback\n",
    "# ARIMAmodel = ARIMA(y, order = (7, 2, 2)) # AR with 7 lookback, 2 differencing, and MA with 2 lookback\n",
    "ARIMAmodel = ARIMAmodel.fit()\n",
    "\n",
    "y_pred = ARIMAmodel.get_forecast(len(test.index))\n",
    "y_pred_df = y_pred.conf_int(alpha = 0.05) \n",
    "y_pred_df[\"Predictions\"] = ARIMAmodel.predict(start = y_pred_df.index[0], end = y_pred_df.index[-1])\n",
    "y_pred_df.index = test.index\n",
    "y_pred_arima = y_pred_df[\"Predictions\"] \n",
    "\n",
    "arma_rmse = np.sqrt(mean_squared_error(test[\"BTC-USD\"].values, y_pred_df[\"Predictions\"]))\n",
    "print(f\"\\n\\n\\nARIMA RMSE: {arma_rmse}\\n\\n\\n\")"
   ]
  },
  {
   "cell_type": "markdown",
   "metadata": {},
   "source": [
    "### Let's plot the output of the ARIMA"
   ]
  },
  {
   "cell_type": "code",
   "execution_count": null,
   "metadata": {},
   "outputs": [],
   "source": [
    "\n",
    "plt.ylabel('BTC Price')\n",
    "plt.xlabel('Date')\n",
    "plt.xticks(rotation=45)\n",
    "plt.plot(train, color='black', label='Training')\n",
    "plt.plot(test, color='red', label='Test')\n",
    "plt.plot(y_pred_arma, color='green', label = 'ARMA Predictions')\n",
    "plt.plot(y_pred_arima, color='yellow', label = 'ARIMA Predictions')\n",
    "plt.show()"
   ]
  },
  {
   "cell_type": "markdown",
   "metadata": {},
   "source": [
    "## Let's add seasonality (SARIMA)"
   ]
  },
  {
   "cell_type": "code",
   "execution_count": null,
   "metadata": {},
   "outputs": [],
   "source": [
    "\n",
    "# SARIMAmodel = SARIMAX(y, order = (5, 4, 2), seasonal_order=(2,2,2,12))\n",
    "SARIMAmodel = SARIMAX(y, order = (5, 1, 2), seasonal_order=(2,1,2,12)) # AR with 5 lookback, 4 differencing, and MA with 2 lookback, 12 month seasonality with AR of 2, differencing of 2, and MA of 2\n",
    "#SARIMAmodel = SARIMAX(y, order = (5, 1, 2), seasonal_order=(2,1,2,365)) # AR with 5 lookback, 4 differencing, and MA with 2 lookback, 365 day seasonality with AR of 2, differencing of 2, and MA of 2\n",
    "SARIMAmodel = SARIMAmodel.fit()\n",
    "\n",
    "y_pred = SARIMAmodel.get_forecast(len(test.index))\n",
    "y_pred_df = y_pred.conf_int(alpha = 0.05) \n",
    "y_pred_df[\"Predictions\"] = SARIMAmodel.predict(start = y_pred_df.index[0], end = y_pred_df.index[-1])\n",
    "y_pred_df.index = test.index\n",
    "y_pred_sarimax = y_pred_df[\"Predictions\"] \n",
    "\n",
    "arma_rmse = np.sqrt(mean_squared_error(test[\"BTC-USD\"].values, y_pred_df[\"Predictions\"]))\n",
    "print(f\"\\n\\n\\nSARIMA RMSE: {arma_rmse}\\n\\n\\n\")\n",
    "\n",
    "plt.show()"
   ]
  },
  {
   "cell_type": "markdown",
   "metadata": {},
   "source": [
    "### Let's plot the output of SARIMA aganist the others"
   ]
  },
  {
   "cell_type": "code",
   "execution_count": null,
   "metadata": {},
   "outputs": [],
   "source": [
    "plt.plot(train, color = \"black\", label = 'Training')\n",
    "plt.plot(test, color = \"red\", label = 'Testing')\n",
    "plt.ylabel('BTC Price')\n",
    "plt.xlabel('Date')\n",
    "plt.xticks(rotation=45)\n",
    "plt.title(\"Train/Test split for BTC Data\")\n",
    "\n",
    "\n",
    "\n",
    "plt.plot(y_pred_arma, color='green', label = 'ARMA Predictions')\n",
    "plt.plot(y_pred_arima, color='yellow', label = 'ARIMA Predictions')\n",
    "plt.plot(y_pred_sarimax, color='blue', label = 'SARIMA Predictions')\n",
    "plt.legend()\n",
    "\n",
    "plt.show()"
   ]
  },
  {
   "cell_type": "code",
   "execution_count": null,
   "metadata": {},
   "outputs": [],
   "source": []
  }
 ],
 "metadata": {
  "kernelspec": {
   "display_name": "venv",
   "language": "python",
   "name": "python3"
  },
  "language_info": {
   "codemirror_mode": {
    "name": "ipython",
    "version": 3
   },
   "file_extension": ".py",
   "mimetype": "text/x-python",
   "name": "python",
   "nbconvert_exporter": "python",
   "pygments_lexer": "ipython3",
   "version": "3.10.14"
  }
 },
 "nbformat": 4,
 "nbformat_minor": 4
}
